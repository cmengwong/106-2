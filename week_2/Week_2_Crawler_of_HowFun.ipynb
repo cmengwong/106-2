{
 "cells": [
  {
   "cell_type": "code",
   "execution_count": 258,
   "metadata": {},
   "outputs": [],
   "source": [
    "#import package we need to use.\n",
    "import requests\n",
    "from bs4 import BeautifulSoup "
   ]
  },
  {
   "cell_type": "code",
   "execution_count": 259,
   "metadata": {},
   "outputs": [
    {
     "data": {
      "text/plain": [
       "200"
      ]
     },
     "execution_count": 259,
     "metadata": {},
     "output_type": "execute_result"
    }
   ],
   "source": [
    "#從Google瀏覽器的檢查可以知道取得html要用get方法以及需要的網址\n",
    "url = 'https://www.youtube.com/results?search_query=howfun'\n",
    "res = requests.get(url)\n",
    "#確定可以讀取到網頁\n",
    "res.status_code"
   ]
  },
  {
   "cell_type": "code",
   "execution_count": 299,
   "metadata": {
    "scrolled": true
   },
   "outputs": [],
   "source": [
    "soup = BeautifulSoup(res.text, 'html.parser')"
   ]
  },
  {
   "cell_type": "code",
   "execution_count": 261,
   "metadata": {
    "scrolled": true
   },
   "outputs": [
    {
     "data": {
      "text/plain": [
       "['三菱Eclipse Cross以我為榮',\n",
       " 'HowFun / 阿明臉長得很像風箏',\n",
       " 'HowFun / 把初音納入後宮吧！',\n",
       " '《How孩子不要看》芒果冰淇淋 #1 我想當YouTuber啦',\n",
       " 'HowFun / 奮青，好難。',\n",
       " 'HowFun / 國軍弟兄們，上戰場囉！',\n",
       " '《How孩子不要看》芒果冰淇淋 #1 我想當YouTuber啦',\n",
       " 'HowFun / 過年送禮，就是戰爭!!!',\n",
       " 'HowFun / 阿明的作文',\n",
       " 'HowFun / 先生，你水潑到我鞋子上了。',\n",
       " 'HowFun / 公主，這是你的襪子嗎？',\n",
       " 'HowFun / 阿明艦長帶你飛～',\n",
       " 'Howfun / 叫媽媽，好難。',\n",
       " 'HowFun / 遊戲，換你抽牌啦！',\n",
       " 'HowFun / 奮青，好難。',\n",
       " 'HowFun / HowHowの小廚房之勞工的心聲',\n",
       " 'HowFun / 你腦袋才裝鉛啦！',\n",
       " 'HowFun / 走味的二分之一',\n",
       " 'HowFun / 今天的我，沒有極限！',\n",
       " 'HowFun / 快點啦！要點什麼啦！',\n",
       " 'HowFun / 那些年，天堂。',\n",
       " 'HowFun / 台北！我的主場！feat. 最狂阿伯柯P',\n",
       " 'HowFun / 直接業配攻擊網友本體',\n",
       " 'HowFun / 男人就是簡單！直白！']"
      ]
     },
     "execution_count": 261,
     "metadata": {},
     "output_type": "execute_result"
    }
   ],
   "source": [
    "#嘗試用不同的find_all方法找出資訊\n",
    "title = soup.find_all('a', rel=\"spf-prefetch\")\n",
    "title_list = []\n",
    "for video in title:\n",
    "    title_list.append(video.string)\n",
    "title_list"
   ]
  },
  {
   "cell_type": "code",
   "execution_count": 273,
   "metadata": {},
   "outputs": [
    {
     "data": {
      "text/plain": [
       "[<h3 class=\"yt-lockup-title \"><a aria-describedby=\"description-id-982855\" class=\"yt-uix-tile-link yt-ui-ellipsis yt-ui-ellipsis-2 yt-uix-sessionlink spf-link \" data-sessionlink=\"itct=CF4Q3DAYACITCPW7w8T519kCFRWNWAodecAAoSj0JDIMc2VhcmNoLXNoZWxmUgZob3dmdW4\" dir=\"ltr\" href=\"/watch?v=3in3D7y4VK0\" rel=\"spf-prefetch\" title=\"HowFun / 阿明臉長得很像風箏\">HowFun / 阿明臉長得很像風箏</a><span class=\"accessible-description\" id=\"description-id-982855\"> - 播放時間：1:05。</span></h3>,\n",
       " <div class=\"yt-lockup-byline \"><a class=\"yt-uix-sessionlink spf-link \" data-sessionlink=\"itct=CF4Q3DAYACITCPW7w8T519kCFRWNWAodecAAoSj0JA\" href=\"/user/jasonjason1124\">HowFun</a> <span class=\"yt-uix-tooltip yt-channel-title-icon-verified yt-sprite\" title=\"已驗證\"></span></div>,\n",
       " <div class=\"yt-lockup-meta \"><ul class=\"yt-lockup-meta-info\"><li>2 天前</li><li>觀看次數：279,350</li></ul></div>,\n",
       " <div class=\"yt-lockup-description yt-ui-ellipsis yt-ui-ellipsis-2\" dir=\"ltr\">啊，真的很像風箏呢。 #NikeReact #任我去跑快訂閱<b>HowFun</b>頻道: <a class=\"yt-uix-redirect-link\" dir=\"ltr\" href=\"http://goo.gl/tnPtxh\" rel=\"nofollow\" target=\"_blank\" title=\"http://goo.gl/tnPtxh\">http://goo.gl/tnPtxh</a> <b>HowFun</b>臉書專頁: <a class=\"yt-uix-redirect-link\" dir=\"ltr\" href=\"http://www.facebook.com/\" rel=\"nofollow\" target=\"_blank\" title=\"http://www.facebook.com/\">http://www.facebook.com/</a></div>,\n",
       " <div class=\"yt-lockup-badges\"><ul class=\"yt-badge-list \"><li class=\"yt-badge-item\"><span class=\"yt-badge \">最新</span></li></ul> </div>]"
      ]
     },
     "execution_count": 273,
     "metadata": {},
     "output_type": "execute_result"
    }
   ],
   "source": [
    "#最後發現用這個標籤和屬性可以找到每一部影片的資訊\n",
    "soup.find_all('div','yt-lockup-content')[2].contents"
   ]
  },
  {
   "cell_type": "code",
   "execution_count": 274,
   "metadata": {},
   "outputs": [
    {
     "data": {
      "text/plain": [
       "'HowFun / 阿明臉長得很像風箏'"
      ]
     },
     "execution_count": 274,
     "metadata": {},
     "output_type": "execute_result"
    }
   ],
   "source": [
    "#影片Title\n",
    "soup.find_all('div','yt-lockup-content')[2].contents[0].contents[0].text"
   ]
  },
  {
   "cell_type": "code",
   "execution_count": 275,
   "metadata": {},
   "outputs": [
    {
     "data": {
      "text/plain": [
       "' - 播放時間：1:05。'"
      ]
     },
     "execution_count": 275,
     "metadata": {},
     "output_type": "execute_result"
    }
   ],
   "source": [
    "#第一個影片撥放時間\n",
    "soup.find_all('div','yt-lockup-content')[2].contents[0].contents[1].text"
   ]
  },
  {
   "cell_type": "code",
   "execution_count": 276,
   "metadata": {},
   "outputs": [
    {
     "data": {
      "text/plain": [
       "' - 播放時間：1:30。'"
      ]
     },
     "execution_count": 276,
     "metadata": {},
     "output_type": "execute_result"
    }
   ],
   "source": [
    "#第二個影片撥放時間\n",
    "soup.find_all('div','yt-lockup-content')[3].contents[0].contents[1].text"
   ]
  },
  {
   "cell_type": "code",
   "execution_count": 277,
   "metadata": {},
   "outputs": [
    {
     "data": {
      "text/plain": [
       "'HowFun'"
      ]
     },
     "execution_count": 277,
     "metadata": {},
     "output_type": "execute_result"
    }
   ],
   "source": [
    "#影片作者\n",
    "soup.find_all('div','yt-lockup-content')[2].contents[1].contents[0].text"
   ]
  },
  {
   "cell_type": "code",
   "execution_count": 278,
   "metadata": {},
   "outputs": [
    {
     "data": {
      "text/plain": [
       "'2 天前'"
      ]
     },
     "execution_count": 278,
     "metadata": {},
     "output_type": "execute_result"
    }
   ],
   "source": [
    "#上傳時間\n",
    "soup.find_all('div','yt-lockup-content')[2].contents[2].contents[0].contents[0].text"
   ]
  },
  {
   "cell_type": "code",
   "execution_count": 279,
   "metadata": {},
   "outputs": [
    {
     "data": {
      "text/plain": [
       "'觀看次數：279,350'"
      ]
     },
     "execution_count": 279,
     "metadata": {},
     "output_type": "execute_result"
    }
   ],
   "source": [
    "#影片觀看次數\n",
    "soup.find_all('div','yt-lockup-content')[2].contents[2].contents[0].contents[1].text"
   ]
  },
  {
   "cell_type": "code",
   "execution_count": 280,
   "metadata": {},
   "outputs": [
    {
     "data": {
      "text/plain": [
       "'啊，真的很像風箏呢。 #NikeReact #任我去跑快訂閱HowFun頻道: http://goo.gl/tnPtxh HowFun臉書專頁: http://www.facebook.com/'"
      ]
     },
     "execution_count": 280,
     "metadata": {},
     "output_type": "execute_result"
    }
   ],
   "source": [
    "#影片描述\n",
    "soup.find_all('div','yt-lockup-content')[2].contents[3].text"
   ]
  },
  {
   "cell_type": "code",
   "execution_count": null,
   "metadata": {},
   "outputs": [],
   "source": [
    "#利用正規表達式把時間及觀看數字的數字取出來\n",
    "import re\n",
    "RexNum = re.compile('\\d:\\d\\d')\n",
    "RexNum2 = re.compile('(\\d+,)+\\d+')"
   ]
  },
  {
   "cell_type": "raw",
   "metadata": {},
   "source": [
    "# 作法參考:\n",
    "info = []\n",
    "for article in q('.r-ent'):\n",
    "    info_dict = OrderedDict()\n",
    "    article_q = pq(article)\n",
    "    info_dict['title'] = article_q('a').text()\n",
    "    info_dict['author'] = article_q('.author').text()\n",
    "    info_dict['push'] = article_q('.hl').text()\n",
    "    info.append(info_dict)\n",
    "data = pd.DataFrame(info)\n",
    "data.to_csv('ptt_food_info.csv' ,encoding = 'utf-8', index=None)\n",
    "data.head()"
   ]
  },
  {
   "cell_type": "code",
   "execution_count": 297,
   "metadata": {},
   "outputs": [
    {
     "data": {
      "text/html": [
       "<div>\n",
       "<style scoped>\n",
       "    .dataframe tbody tr th:only-of-type {\n",
       "        vertical-align: middle;\n",
       "    }\n",
       "\n",
       "    .dataframe tbody tr th {\n",
       "        vertical-align: top;\n",
       "    }\n",
       "\n",
       "    .dataframe thead th {\n",
       "        text-align: right;\n",
       "    }\n",
       "</style>\n",
       "<table border=\"1\" class=\"dataframe\">\n",
       "  <thead>\n",
       "    <tr style=\"text-align: right;\">\n",
       "      <th></th>\n",
       "      <th>title</th>\n",
       "      <th>length</th>\n",
       "      <th>polish</th>\n",
       "      <th>view</th>\n",
       "      <th>Text</th>\n",
       "    </tr>\n",
       "  </thead>\n",
       "  <tbody>\n",
       "    <tr>\n",
       "      <th>0</th>\n",
       "      <td>HowFun / 阿明臉長得很像風箏</td>\n",
       "      <td>1:05</td>\n",
       "      <td>2 天前</td>\n",
       "      <td>279,350</td>\n",
       "      <td>啊，真的很像風箏呢。 #NikeReact #任我去跑快訂閱HowFun頻道: http:/...</td>\n",
       "    </tr>\n",
       "    <tr>\n",
       "      <th>1</th>\n",
       "      <td>HowFun / 把初音納入後宮吧！</td>\n",
       "      <td>1:30</td>\n",
       "      <td>3 天前</td>\n",
       "      <td>295,410</td>\n",
       "      <td>Cosplay初音什麼的... 我...我真的沒有開心喔！ 但觀眾很不開心。 趕快去下載神無...</td>\n",
       "    </tr>\n",
       "    <tr>\n",
       "      <th>2</th>\n",
       "      <td>《How孩子不要看》芒果冰淇淋 #1 我想當YouTuber啦</td>\n",
       "      <td>2:56</td>\n",
       "      <td>4 天前</td>\n",
       "      <td>386,050</td>\n",
       "      <td>HowHowの全新節目， HowFun x 公視青春發言人芒果冰淇淋！！！ 芒果爺爺跟洨恐龍...</td>\n",
       "    </tr>\n",
       "    <tr>\n",
       "      <th>3</th>\n",
       "      <td>HowFun / 奮青，好難。</td>\n",
       "      <td>2:58</td>\n",
       "      <td>1 週前</td>\n",
       "      <td>497,988</td>\n",
       "      <td>奮青就是要為了自己的人生奮鬥！ 夢想什麼的，只要奮鬥一定會縮短我們之間的距離吧！ 學妹「學長...</td>\n",
       "    </tr>\n",
       "    <tr>\n",
       "      <th>4</th>\n",
       "      <td>HowFun / 國軍弟兄們，上戰場囉！</td>\n",
       "      <td>3:46</td>\n",
       "      <td>2 個月前</td>\n",
       "      <td>1,389,531</td>\n",
       "      <td>我想如果真的打仗，應該會變這樣吧。 ㄏ這次直接1人分飾13角呢～ 快訂閱HowFun頻道: ...</td>\n",
       "    </tr>\n",
       "  </tbody>\n",
       "</table>\n",
       "</div>"
      ],
      "text/plain": [
       "                             title length polish       view  \\\n",
       "0               HowFun / 阿明臉長得很像風箏   1:05   2 天前    279,350   \n",
       "1               HowFun / 把初音納入後宮吧！   1:30   3 天前    295,410   \n",
       "2  《How孩子不要看》芒果冰淇淋 #1 我想當YouTuber啦   2:56   4 天前    386,050   \n",
       "3                  HowFun / 奮青，好難。   2:58   1 週前    497,988   \n",
       "4             HowFun / 國軍弟兄們，上戰場囉！   3:46  2 個月前  1,389,531   \n",
       "\n",
       "                                                Text  \n",
       "0  啊，真的很像風箏呢。 #NikeReact #任我去跑快訂閱HowFun頻道: http:/...  \n",
       "1  Cosplay初音什麼的... 我...我真的沒有開心喔！ 但觀眾很不開心。 趕快去下載神無...  \n",
       "2  HowHowの全新節目， HowFun x 公視青春發言人芒果冰淇淋！！！ 芒果爺爺跟洨恐龍...  \n",
       "3  奮青就是要為了自己的人生奮鬥！ 夢想什麼的，只要奮鬥一定會縮短我們之間的距離吧！ 學妹「學長...  \n",
       "4  我想如果真的打仗，應該會變這樣吧。 ㄏ這次直接1人分飾13角呢～ 快訂閱HowFun頻道: ...  "
      ]
     },
     "execution_count": 297,
     "metadata": {},
     "output_type": "execute_result"
    }
   ],
   "source": [
    "#參考之前的作法把資料用pandas的DataFrame格式儲存起來\n",
    "from collections import OrderedDict\n",
    "import pandas as pd\n",
    "info = []\n",
    "for i in range(2,25):\n",
    "    part = soup.find_all('div','yt-lockup-content')[i]\n",
    "    info_dict = OrderedDict()\n",
    "    info_dict['title'] = part.contents[0].contents[0].text\n",
    "    info_dict['length'] = re.search(RexNum,part.contents[0].contents[1].text).group()\n",
    "    info_dict['polish'] = part.contents[2].contents[0].contents[0].text\n",
    "    info_dict['view'] = re.search(RexNum2,part.contents[2].contents[0].contents[1].text).group()\n",
    "    info_dict['Text'] = part.contents[3].text\n",
    "    info.append(info_dict)\n",
    "data = pd.DataFrame(info)\n",
    "#這裡encoding要用utf-8-sig用excel開啟才不會是亂碼\n",
    "data.to_csv('YoutubeSearch_HowFun.csv', encoding='utf-8-sig', index=None)\n",
    "data.head()"
   ]
  },
  {
   "cell_type": "raw",
   "metadata": {},
   "source": [
    "# 獲得每個影片的網址(參考)\n",
    "url_list = []\n",
    "for node in q('.title a'):\n",
    "    url = 'https://www.ptt.cc' + str(pq(node).attr('href'))\n",
    "    url_list.append(url)\n",
    "print(url_list)"
   ]
  },
  {
   "cell_type": "code",
   "execution_count": 288,
   "metadata": {},
   "outputs": [
    {
     "data": {
      "text/plain": [
       "'https://www.youtube.comhttps://www.youtube.com/watch?v=cruXUtlOdTU'"
      ]
     },
     "execution_count": 288,
     "metadata": {},
     "output_type": "execute_result"
    }
   ],
   "source": [
    "#嘗試找出一個url\n",
    "sub_url_test = soup.find_all('div','yt-lockup-content')[2].contents[0].find('a')['href']\n",
    "url_test = 'https://www.youtube.com' + sub_url\n",
    "url_test"
   ]
  },
  {
   "cell_type": "code",
   "execution_count": 289,
   "metadata": {},
   "outputs": [
    {
     "name": "stdout",
     "output_type": "stream",
     "text": [
      "['https://www.youtube.com/watch?v=3in3D7y4VK0', 'https://www.youtube.com/watch?v=PzpgeZHDMOk', 'https://www.youtube.com/watch?v=Rwa1MgrDAoQ', 'https://www.youtube.com/watch?v=E-2rbKZbXgk', 'https://www.youtube.com/watch?v=zgjtyvQqwVI', 'https://www.youtube.com/watch?v=Rwa1MgrDAoQ', 'https://www.youtube.com/watch?v=VYCGi4b9_YI', 'https://www.youtube.com/watch?v=bt6b7-ZteJY', 'https://www.youtube.com/watch?v=YXb800paJhw', 'https://www.youtube.com/watch?v=CRWh0ze1h20', 'https://www.youtube.com/watch?v=l8QclBn9k7c', 'https://www.youtube.com/watch?v=cene97fTKJQ', 'https://www.youtube.com/watch?v=HM3PnOEJ1jI', 'https://www.youtube.com/watch?v=E-2rbKZbXgk', 'https://www.youtube.com/watch?v=LskMlvoMiD0', 'https://www.youtube.com/watch?v=lIY92X3kxsQ', 'https://www.youtube.com/watch?v=3Cbd_u80iZU', 'https://www.youtube.com/watch?v=htL6Iotw6ns', 'https://www.youtube.com/watch?v=5guSmzeMUWE', 'https://www.youtube.com/watch?v=3aKYtUgmsKE', 'https://www.youtube.com/watch?v=UX4Cp5NuKX4', 'https://www.youtube.com/watch?v=oxnHDXPIfCg', 'https://www.youtube.com/watch?v=cruXUtlOdTU']\n"
     ]
    }
   ],
   "source": [
    "#找出每個影片的url並存進list裡\n",
    "url_list = []\n",
    "for i in range(2,25):\n",
    "    part = soup.find_all('div','yt-lockup-content')[i]\n",
    "    url = 'https://www.youtube.com' + part.contents[0].find('a')['href']\n",
    "    url_list.append(url)\n",
    "print(url_list)"
   ]
  },
  {
   "cell_type": "code",
   "execution_count": 294,
   "metadata": {},
   "outputs": [
    {
     "data": {
      "text/html": [
       "<div>\n",
       "<style scoped>\n",
       "    .dataframe tbody tr th:only-of-type {\n",
       "        vertical-align: middle;\n",
       "    }\n",
       "\n",
       "    .dataframe tbody tr th {\n",
       "        vertical-align: top;\n",
       "    }\n",
       "\n",
       "    .dataframe thead th {\n",
       "        text-align: right;\n",
       "    }\n",
       "</style>\n",
       "<table border=\"1\" class=\"dataframe\">\n",
       "  <thead>\n",
       "    <tr style=\"text-align: right;\">\n",
       "      <th></th>\n",
       "      <th>title</th>\n",
       "      <th>length</th>\n",
       "      <th>author</th>\n",
       "      <th>view</th>\n",
       "    </tr>\n",
       "  </thead>\n",
       "  <tbody>\n",
       "    <tr>\n",
       "      <th>0</th>\n",
       "      <td>HowFun / 把初音納入後宮吧！</td>\n",
       "      <td>1:30</td>\n",
       "      <td>HowFun</td>\n",
       "      <td>296,206</td>\n",
       "    </tr>\n",
       "    <tr>\n",
       "      <th>1</th>\n",
       "      <td>與魯蛇同行【與神同行惡搞版!】</td>\n",
       "      <td>9:27</td>\n",
       "      <td>葉式特工 Yes Ranger</td>\n",
       "      <td>534,313</td>\n",
       "    </tr>\n",
       "    <tr>\n",
       "      <th>2</th>\n",
       "      <td>夾娃娃機能賺多少錢？一周台主體驗，直接算給你看！【民生調查局#13】</td>\n",
       "      <td>2:53</td>\n",
       "      <td>God Tone Asia 張家兄弟滑起來</td>\n",
       "      <td>1,402,810</td>\n",
       "    </tr>\n",
       "    <tr>\n",
       "      <th>3</th>\n",
       "      <td>「去你的晚餐」 #展榮展瑞│揭秘HowHow私生活 關懷邊緣人你我都有責</td>\n",
       "      <td>4:13</td>\n",
       "      <td>Keelong and Rays這群人 展榮展瑞</td>\n",
       "      <td>673,216</td>\n",
       "    </tr>\n",
       "    <tr>\n",
       "      <th>4</th>\n",
       "      <td>HowFun / 三國時期的大兵日記</td>\n",
       "      <td>2:05</td>\n",
       "      <td>HowFun</td>\n",
       "      <td>1,054,718</td>\n",
       "    </tr>\n",
       "  </tbody>\n",
       "</table>\n",
       "</div>"
      ],
      "text/plain": [
       "                                  title length                    author  \\\n",
       "0                    HowFun / 把初音納入後宮吧！   1:30                    HowFun   \n",
       "1                       與魯蛇同行【與神同行惡搞版!】   9:27           葉式特工 Yes Ranger   \n",
       "2    夾娃娃機能賺多少錢？一周台主體驗，直接算給你看！【民生調查局#13】   2:53     God Tone Asia 張家兄弟滑起來   \n",
       "3  「去你的晚餐」 #展榮展瑞│揭秘HowHow私生活 關懷邊緣人你我都有責   4:13  Keelong and Rays這群人 展榮展瑞   \n",
       "4                    HowFun / 三國時期的大兵日記   2:05                    HowFun   \n",
       "\n",
       "        view  \n",
       "0    296,206  \n",
       "1    534,313  \n",
       "2  1,402,810  \n",
       "3    673,216  \n",
       "4  1,054,718  "
      ]
     },
     "execution_count": 294,
     "metadata": {},
     "output_type": "execute_result"
    }
   ],
   "source": [
    "autoplay_list = []\n",
    "for sub_url in url_list:\n",
    "    autoplay_dict = OrderedDict()\n",
    "    r = requests.get(sub_url)\n",
    "    s = BeautifulSoup(r.text, 'html.parser').find_all('div','watch-sidebar-section')[0]\n",
    "    autoplay_dict['title'] = s.find('span','title').text.strip()\n",
    "    autoplay_dict['length'] = re.search(RexNum,s.find('span','accessible-description').text.strip()).group()\n",
    "    autoplay_dict['author'] = s.find('span','stat attribution').text\n",
    "    autoplay_dict['view'] = re.search(RexNum2,s.find('span','stat view-count').text).group()\n",
    "    autoplay_list.append(autoplay_dict)\n",
    "data2 = pd.DataFrame(autoplay_list)\n",
    "#這裡encoding要用utf-8-sig用excel開啟才不會是亂碼\n",
    "data2.to_csv('HowFun_autoplay.csv', encoding='utf-8-sig', index=None)\n",
    "data2.head()"
   ]
  },
  {
   "cell_type": "code",
   "execution_count": 298,
   "metadata": {},
   "outputs": [
    {
     "data": {
      "text/html": [
       "<div>\n",
       "<style scoped>\n",
       "    .dataframe tbody tr th:only-of-type {\n",
       "        vertical-align: middle;\n",
       "    }\n",
       "\n",
       "    .dataframe tbody tr th {\n",
       "        vertical-align: top;\n",
       "    }\n",
       "\n",
       "    .dataframe thead th {\n",
       "        text-align: right;\n",
       "    }\n",
       "</style>\n",
       "<table border=\"1\" class=\"dataframe\">\n",
       "  <thead>\n",
       "    <tr style=\"text-align: right;\">\n",
       "      <th></th>\n",
       "      <th>title</th>\n",
       "      <th>autoplay_video</th>\n",
       "      <th>length</th>\n",
       "      <th>polish</th>\n",
       "      <th>view</th>\n",
       "      <th>Text</th>\n",
       "    </tr>\n",
       "  </thead>\n",
       "  <tbody>\n",
       "    <tr>\n",
       "      <th>0</th>\n",
       "      <td>HowFun / 阿明臉長得很像風箏</td>\n",
       "      <td>HowFun / 把初音納入後宮吧！</td>\n",
       "      <td>1:05</td>\n",
       "      <td>2 天前</td>\n",
       "      <td>279,350</td>\n",
       "      <td>啊，真的很像風箏呢。 #NikeReact #任我去跑快訂閱HowFun頻道: http:/...</td>\n",
       "    </tr>\n",
       "    <tr>\n",
       "      <th>1</th>\n",
       "      <td>HowFun / 把初音納入後宮吧！</td>\n",
       "      <td>與魯蛇同行【與神同行惡搞版!】</td>\n",
       "      <td>1:30</td>\n",
       "      <td>3 天前</td>\n",
       "      <td>295,410</td>\n",
       "      <td>Cosplay初音什麼的... 我...我真的沒有開心喔！ 但觀眾很不開心。 趕快去下載神無...</td>\n",
       "    </tr>\n",
       "    <tr>\n",
       "      <th>2</th>\n",
       "      <td>《How孩子不要看》芒果冰淇淋 #1 我想當YouTuber啦</td>\n",
       "      <td>夾娃娃機能賺多少錢？一周台主體驗，直接算給你看！【民生調查局#13】</td>\n",
       "      <td>2:56</td>\n",
       "      <td>4 天前</td>\n",
       "      <td>386,050</td>\n",
       "      <td>HowHowの全新節目， HowFun x 公視青春發言人芒果冰淇淋！！！ 芒果爺爺跟洨恐龍...</td>\n",
       "    </tr>\n",
       "    <tr>\n",
       "      <th>3</th>\n",
       "      <td>HowFun / 奮青，好難。</td>\n",
       "      <td>「去你的晚餐」 #展榮展瑞│揭秘HowHow私生活 關懷邊緣人你我都有責</td>\n",
       "      <td>2:58</td>\n",
       "      <td>1 週前</td>\n",
       "      <td>497,988</td>\n",
       "      <td>奮青就是要為了自己的人生奮鬥！ 夢想什麼的，只要奮鬥一定會縮短我們之間的距離吧！ 學妹「學長...</td>\n",
       "    </tr>\n",
       "    <tr>\n",
       "      <th>4</th>\n",
       "      <td>HowFun / 國軍弟兄們，上戰場囉！</td>\n",
       "      <td>HowFun / 三國時期的大兵日記</td>\n",
       "      <td>3:46</td>\n",
       "      <td>2 個月前</td>\n",
       "      <td>1,389,531</td>\n",
       "      <td>我想如果真的打仗，應該會變這樣吧。 ㄏ這次直接1人分飾13角呢～ 快訂閱HowFun頻道: ...</td>\n",
       "    </tr>\n",
       "    <tr>\n",
       "      <th>5</th>\n",
       "      <td>《How孩子不要看》芒果冰淇淋 #1 我想當YouTuber啦</td>\n",
       "      <td>夾娃娃機能賺多少錢？一周台主體驗，直接算給你看！【民生調查局#13】</td>\n",
       "      <td>2:56</td>\n",
       "      <td>4 天前</td>\n",
       "      <td>386,050</td>\n",
       "      <td>HowHowの全新節目， HowFun x 公視青春發言人芒果冰淇淋！！！ 芒果爺爺跟洨恐龍...</td>\n",
       "    </tr>\n",
       "    <tr>\n",
       "      <th>6</th>\n",
       "      <td>HowFun / 過年送禮，就是戰爭!!!</td>\n",
       "      <td>HowFun / 國軍弟兄們，上戰場囉！</td>\n",
       "      <td>3:13</td>\n",
       "      <td>1 個月前</td>\n",
       "      <td>727,568</td>\n",
       "      <td>自從去年過年送禮我送了喜年來蛋捲， 我考試都考一百分！ “阿明，那個，多益滿分是990。” ...</td>\n",
       "    </tr>\n",
       "    <tr>\n",
       "      <th>7</th>\n",
       "      <td>HowFun / 阿明的作文</td>\n",
       "      <td>HowFun / 這就是大人的滋味！</td>\n",
       "      <td>1:46</td>\n",
       "      <td>1 個月前</td>\n",
       "      <td>498,239</td>\n",
       "      <td>小美「老師，阿明作文只寫三行。」 老師「阿明，怎麼只寫三行呢？」 阿明「才沒有！我寫四行好嗎...</td>\n",
       "    </tr>\n",
       "    <tr>\n",
       "      <th>8</th>\n",
       "      <td>HowFun / 先生，你水潑到我鞋子上了。</td>\n",
       "      <td>HowFun / 男人就是簡單！直白！</td>\n",
       "      <td>2:44</td>\n",
       "      <td>11 個月前</td>\n",
       "      <td>2,016,844</td>\n",
       "      <td>史上最強MV，誕生。 唱片業大老看到影片無不痛哭流涕。 好鞋，不買嗎？https://goo...</td>\n",
       "    </tr>\n",
       "    <tr>\n",
       "      <th>9</th>\n",
       "      <td>HowFun / 公主，這是你的襪子嗎？</td>\n",
       "      <td>HowFun / 詐光你的尾牙錢 feat. 上班不要看</td>\n",
       "      <td>1:53</td>\n",
       "      <td>1 個月前</td>\n",
       "      <td>479,962</td>\n",
       "      <td>阿明「真的嗎？穿了Footer襪子，腳就不會臭了嗎？」 Footer「對唷～如果無效，Foo...</td>\n",
       "    </tr>\n",
       "    <tr>\n",
       "      <th>10</th>\n",
       "      <td>HowFun / 阿明艦長帶你飛～</td>\n",
       "      <td>HowFun / 國軍弟兄們，上戰場囉！</td>\n",
       "      <td>2:19</td>\n",
       "      <td>4 個月前</td>\n",
       "      <td>1,518,107</td>\n",
       "      <td>\"女武神為了世間所有的美好而戰，我也要為了我所有的美好而戰！\" 阿明，住手。 畫面不太雅觀啊...</td>\n",
       "    </tr>\n",
       "    <tr>\n",
       "      <th>11</th>\n",
       "      <td>Howfun / 叫媽媽，好難。</td>\n",
       "      <td>HowFun / 讓我幫你急救吧</td>\n",
       "      <td>2:20</td>\n",
       "      <td>3 週前</td>\n",
       "      <td>690,954</td>\n",
       "      <td>如果結婚後突然要把叔叔阿姨叫成爸爸媽媽， 似乎需要點勇氣呢，可惡。 快訂閱HowFun頻道:...</td>\n",
       "    </tr>\n",
       "    <tr>\n",
       "      <th>12</th>\n",
       "      <td>HowFun / 遊戲，換你抽牌啦！</td>\n",
       "      <td>恐怯餅乾，我的餅乾</td>\n",
       "      <td>0:53</td>\n",
       "      <td>1 年前</td>\n",
       "      <td>878,564</td>\n",
       "      <td>這髮型真的是我這輩子的巔峰之作。 話說那張黑魔導真是我的傳家寶啊ψ(｀∇´)ψ 快去訂閱Ho...</td>\n",
       "    </tr>\n",
       "    <tr>\n",
       "      <th>13</th>\n",
       "      <td>HowFun / 奮青，好難。</td>\n",
       "      <td>「去你的晚餐」 #展榮展瑞│揭秘HowHow私生活 關懷邊緣人你我都有責</td>\n",
       "      <td>2:58</td>\n",
       "      <td>1 週前</td>\n",
       "      <td>497,988</td>\n",
       "      <td>奮青就是要為了自己的人生奮鬥！ 夢想什麼的，只要奮鬥一定會縮短我們之間的距離吧！ 學妹「學長...</td>\n",
       "    </tr>\n",
       "    <tr>\n",
       "      <th>14</th>\n",
       "      <td>HowFun / HowHowの小廚房之勞工的心聲</td>\n",
       "      <td>HowFun / 2017 Google年度搜尋關鍵字</td>\n",
       "      <td>2:19</td>\n",
       "      <td>2 個月前</td>\n",
       "      <td>449,859</td>\n",
       "      <td>加班熬夜什麼的，我...我才不在意呢！ 真男人就自己下廚照顧自己吧！ 愛妻便當什麼的...我...</td>\n",
       "    </tr>\n",
       "    <tr>\n",
       "      <th>15</th>\n",
       "      <td>HowFun / 你腦袋才裝鉛啦！</td>\n",
       "      <td>HowFun / 如何打一手好的保齡球，並且成功藉此釣到妹子</td>\n",
       "      <td>1:09</td>\n",
       "      <td>5 個月前</td>\n",
       "      <td>1,097,216</td>\n",
       "      <td>欸欸，你的腦袋，裝鉛了嗎？ 你才裝鉛，你全家都裝鉛。 但腦袋裝鉛很不方便呢，過海關什麼的都會...</td>\n",
       "    </tr>\n",
       "    <tr>\n",
       "      <th>16</th>\n",
       "      <td>HowFun / 走味的二分之一</td>\n",
       "      <td>HowFun / 這就是大人的滋味！</td>\n",
       "      <td>2:24</td>\n",
       "      <td>2 週前</td>\n",
       "      <td>1,062,979</td>\n",
       "      <td>小時光麵館，真的是很溫馨感人有質感的系列呢。 我也想要拍出溫馨感人有質感的系列呢。 畢竟我的...</td>\n",
       "    </tr>\n",
       "    <tr>\n",
       "      <th>17</th>\n",
       "      <td>HowFun / 今天的我，沒有極限！</td>\n",
       "      <td>HowFun / 師父，教我武功吧！</td>\n",
       "      <td>2:18</td>\n",
       "      <td>4 個月前</td>\n",
       "      <td>625,066</td>\n",
       "      <td>副駕駛什麼的，我才不稀罕呢！ 弱者，才需要副駕駛！ 快訂閱HowFun頻道: http://...</td>\n",
       "    </tr>\n",
       "    <tr>\n",
       "      <th>18</th>\n",
       "      <td>HowFun / 快點啦！要點什麼啦！</td>\n",
       "      <td>HowFun / 這影片暗藏玄機！</td>\n",
       "      <td>1:09</td>\n",
       "      <td>3 個月前</td>\n",
       "      <td>387,987</td>\n",
       "      <td>每次點餐不管是站在櫃檯前、打電話， 甚至跟同學決定晚餐吃什麼， 腦袋裡都是一場天人交戰呢！ ...</td>\n",
       "    </tr>\n",
       "    <tr>\n",
       "      <th>19</th>\n",
       "      <td>HowFun / 那些年，天堂。</td>\n",
       "      <td>【經典!】天堂 真人版 Lineage Real</td>\n",
       "      <td>2:49</td>\n",
       "      <td>2 個月前</td>\n",
       "      <td>622,275</td>\n",
       "      <td>不得不說天堂在我童年佔據一塊很大的位置。 那種每天都期待週末可以玩天堂的日子，好懷念。 天堂...</td>\n",
       "    </tr>\n",
       "    <tr>\n",
       "      <th>20</th>\n",
       "      <td>HowFun / 台北！我的主場！feat. 最狂阿伯柯P</td>\n",
       "      <td>HowFun / 國軍弟兄們，上戰場囉！</td>\n",
       "      <td>1:44</td>\n",
       "      <td>7 個月前</td>\n",
       "      <td>1,497,369</td>\n",
       "      <td>HowFun x 世大運影片來囉～ 台北！ 就是我的主場！ 快訂閱HowFun頻道: htt...</td>\n",
       "    </tr>\n",
       "    <tr>\n",
       "      <th>21</th>\n",
       "      <td>HowFun / 直接業配攻擊網友本體</td>\n",
       "      <td>HowFun / 這就是大人的滋味！</td>\n",
       "      <td>1:08</td>\n",
       "      <td>5 個月前</td>\n",
       "      <td>710,301</td>\n",
       "      <td>最近收到很多留言都在說: 你的頻道怎麼只剩下業配了， 難道你只會業配嗎?! 嗯，對喔。 快訂...</td>\n",
       "    </tr>\n",
       "    <tr>\n",
       "      <th>22</th>\n",
       "      <td>HowFun / 男人就是簡單！直白！</td>\n",
       "      <td>HowFun / 工具人聯盟の叛徒</td>\n",
       "      <td>2:29</td>\n",
       "      <td>8 個月前</td>\n",
       "      <td>1,303,305</td>\n",
       "      <td>來囉～戰男女囉～ 男生就是簡單！直白！ 女生就是...那個...就是就是非常的美麗。 戰男女...</td>\n",
       "    </tr>\n",
       "  </tbody>\n",
       "</table>\n",
       "</div>"
      ],
      "text/plain": [
       "                              title                        autoplay_video  \\\n",
       "0                HowFun / 阿明臉長得很像風箏                    HowFun / 把初音納入後宮吧！   \n",
       "1                HowFun / 把初音納入後宮吧！                       與魯蛇同行【與神同行惡搞版!】   \n",
       "2   《How孩子不要看》芒果冰淇淋 #1 我想當YouTuber啦    夾娃娃機能賺多少錢？一周台主體驗，直接算給你看！【民生調查局#13】   \n",
       "3                   HowFun / 奮青，好難。  「去你的晚餐」 #展榮展瑞│揭秘HowHow私生活 關懷邊緣人你我都有責   \n",
       "4              HowFun / 國軍弟兄們，上戰場囉！                    HowFun / 三國時期的大兵日記   \n",
       "5   《How孩子不要看》芒果冰淇淋 #1 我想當YouTuber啦    夾娃娃機能賺多少錢？一周台主體驗，直接算給你看！【民生調查局#13】   \n",
       "6             HowFun / 過年送禮，就是戰爭!!!                  HowFun / 國軍弟兄們，上戰場囉！   \n",
       "7                    HowFun / 阿明的作文                    HowFun / 這就是大人的滋味！   \n",
       "8            HowFun / 先生，你水潑到我鞋子上了。                   HowFun / 男人就是簡單！直白！   \n",
       "9              HowFun / 公主，這是你的襪子嗎？          HowFun / 詐光你的尾牙錢 feat. 上班不要看   \n",
       "10                HowFun / 阿明艦長帶你飛～                  HowFun / 國軍弟兄們，上戰場囉！   \n",
       "11                 Howfun / 叫媽媽，好難。                      HowFun / 讓我幫你急救吧   \n",
       "12               HowFun / 遊戲，換你抽牌啦！                             恐怯餅乾，我的餅乾   \n",
       "13                  HowFun / 奮青，好難。  「去你的晚餐」 #展榮展瑞│揭秘HowHow私生活 關懷邊緣人你我都有責   \n",
       "14        HowFun / HowHowの小廚房之勞工的心聲           HowFun / 2017 Google年度搜尋關鍵字   \n",
       "15                HowFun / 你腦袋才裝鉛啦！        HowFun / 如何打一手好的保齡球，並且成功藉此釣到妹子   \n",
       "16                 HowFun / 走味的二分之一                    HowFun / 這就是大人的滋味！   \n",
       "17              HowFun / 今天的我，沒有極限！                    HowFun / 師父，教我武功吧！   \n",
       "18              HowFun / 快點啦！要點什麼啦！                     HowFun / 這影片暗藏玄機！   \n",
       "19                 HowFun / 那些年，天堂。              【經典!】天堂 真人版 Lineage Real   \n",
       "20    HowFun / 台北！我的主場！feat. 最狂阿伯柯P                  HowFun / 國軍弟兄們，上戰場囉！   \n",
       "21              HowFun / 直接業配攻擊網友本體                    HowFun / 這就是大人的滋味！   \n",
       "22              HowFun / 男人就是簡單！直白！                     HowFun / 工具人聯盟の叛徒   \n",
       "\n",
       "   length  polish       view  \\\n",
       "0    1:05    2 天前    279,350   \n",
       "1    1:30    3 天前    295,410   \n",
       "2    2:56    4 天前    386,050   \n",
       "3    2:58    1 週前    497,988   \n",
       "4    3:46   2 個月前  1,389,531   \n",
       "5    2:56    4 天前    386,050   \n",
       "6    3:13   1 個月前    727,568   \n",
       "7    1:46   1 個月前    498,239   \n",
       "8    2:44  11 個月前  2,016,844   \n",
       "9    1:53   1 個月前    479,962   \n",
       "10   2:19   4 個月前  1,518,107   \n",
       "11   2:20    3 週前    690,954   \n",
       "12   0:53    1 年前    878,564   \n",
       "13   2:58    1 週前    497,988   \n",
       "14   2:19   2 個月前    449,859   \n",
       "15   1:09   5 個月前  1,097,216   \n",
       "16   2:24    2 週前  1,062,979   \n",
       "17   2:18   4 個月前    625,066   \n",
       "18   1:09   3 個月前    387,987   \n",
       "19   2:49   2 個月前    622,275   \n",
       "20   1:44   7 個月前  1,497,369   \n",
       "21   1:08   5 個月前    710,301   \n",
       "22   2:29   8 個月前  1,303,305   \n",
       "\n",
       "                                                 Text  \n",
       "0   啊，真的很像風箏呢。 #NikeReact #任我去跑快訂閱HowFun頻道: http:/...  \n",
       "1   Cosplay初音什麼的... 我...我真的沒有開心喔！ 但觀眾很不開心。 趕快去下載神無...  \n",
       "2   HowHowの全新節目， HowFun x 公視青春發言人芒果冰淇淋！！！ 芒果爺爺跟洨恐龍...  \n",
       "3   奮青就是要為了自己的人生奮鬥！ 夢想什麼的，只要奮鬥一定會縮短我們之間的距離吧！ 學妹「學長...  \n",
       "4   我想如果真的打仗，應該會變這樣吧。 ㄏ這次直接1人分飾13角呢～ 快訂閱HowFun頻道: ...  \n",
       "5   HowHowの全新節目， HowFun x 公視青春發言人芒果冰淇淋！！！ 芒果爺爺跟洨恐龍...  \n",
       "6   自從去年過年送禮我送了喜年來蛋捲， 我考試都考一百分！ “阿明，那個，多益滿分是990。” ...  \n",
       "7   小美「老師，阿明作文只寫三行。」 老師「阿明，怎麼只寫三行呢？」 阿明「才沒有！我寫四行好嗎...  \n",
       "8   史上最強MV，誕生。 唱片業大老看到影片無不痛哭流涕。 好鞋，不買嗎？https://goo...  \n",
       "9   阿明「真的嗎？穿了Footer襪子，腳就不會臭了嗎？」 Footer「對唷～如果無效，Foo...  \n",
       "10  \"女武神為了世間所有的美好而戰，我也要為了我所有的美好而戰！\" 阿明，住手。 畫面不太雅觀啊...  \n",
       "11  如果結婚後突然要把叔叔阿姨叫成爸爸媽媽， 似乎需要點勇氣呢，可惡。 快訂閱HowFun頻道:...  \n",
       "12  這髮型真的是我這輩子的巔峰之作。 話說那張黑魔導真是我的傳家寶啊ψ(｀∇´)ψ 快去訂閱Ho...  \n",
       "13  奮青就是要為了自己的人生奮鬥！ 夢想什麼的，只要奮鬥一定會縮短我們之間的距離吧！ 學妹「學長...  \n",
       "14  加班熬夜什麼的，我...我才不在意呢！ 真男人就自己下廚照顧自己吧！ 愛妻便當什麼的...我...  \n",
       "15  欸欸，你的腦袋，裝鉛了嗎？ 你才裝鉛，你全家都裝鉛。 但腦袋裝鉛很不方便呢，過海關什麼的都會...  \n",
       "16  小時光麵館，真的是很溫馨感人有質感的系列呢。 我也想要拍出溫馨感人有質感的系列呢。 畢竟我的...  \n",
       "17  副駕駛什麼的，我才不稀罕呢！ 弱者，才需要副駕駛！ 快訂閱HowFun頻道: http://...  \n",
       "18  每次點餐不管是站在櫃檯前、打電話， 甚至跟同學決定晚餐吃什麼， 腦袋裡都是一場天人交戰呢！ ...  \n",
       "19  不得不說天堂在我童年佔據一塊很大的位置。 那種每天都期待週末可以玩天堂的日子，好懷念。 天堂...  \n",
       "20  HowFun x 世大運影片來囉～ 台北！ 就是我的主場！ 快訂閱HowFun頻道: htt...  \n",
       "21  最近收到很多留言都在說: 你的頻道怎麼只剩下業配了， 難道你只會業配嗎?! 嗯，對喔。 快訂...  \n",
       "22  來囉～戰男女囉～ 男生就是簡單！直白！ 女生就是...那個...就是就是非常的美麗。 戰男女...  "
      ]
     },
     "execution_count": 298,
     "metadata": {},
     "output_type": "execute_result"
    }
   ],
   "source": [
    "data.insert(1,'autoplay_video',data2['title'])\n",
    "data"
   ]
  }
 ],
 "metadata": {
  "kernelspec": {
   "display_name": "Python 3",
   "language": "python",
   "name": "python3"
  },
  "language_info": {
   "codemirror_mode": {
    "name": "ipython",
    "version": 3
   },
   "file_extension": ".py",
   "mimetype": "text/x-python",
   "name": "python",
   "nbconvert_exporter": "python",
   "pygments_lexer": "ipython3",
   "version": "3.6.4"
  }
 },
 "nbformat": 4,
 "nbformat_minor": 2
}
